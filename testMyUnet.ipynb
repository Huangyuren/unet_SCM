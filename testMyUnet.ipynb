{
 "cells": [
  {
   "cell_type": "code",
   "execution_count": 1,
   "metadata": {},
   "outputs": [
    {
     "name": "stderr",
     "output_type": "stream",
     "text": [
      "Using TensorFlow backend.\n"
     ]
    }
   ],
   "source": [
    "from model import *\n",
    "from data import *\n",
    "from keras.preprocessing.image import ImageDataGenerator\n",
    "from keras.callbacks import EarlyStopping\n",
    "import numpy as np\n",
    "import time\n",
    "import matplotlib.pyplot as plt\n",
    "import glob\n",
    "import os"
   ]
  },
  {
   "cell_type": "code",
   "execution_count": 2,
   "metadata": {},
   "outputs": [],
   "source": [
    "# using specified GPU\n",
    "os.environ[\"CUDA_DEVICE_ORDER\"]=\"PCI_BUS_ID\"\n",
    "os.environ[\"CUDA_VISIBLE_DEVICES\"]=\"1\""
   ]
  },
  {
   "cell_type": "code",
   "execution_count": 5,
   "metadata": {
    "scrolled": true
   },
   "outputs": [
    {
     "name": "stdout",
     "output_type": "stream",
     "text": [
      "HNC37-4012.png\n",
      "HNC37-6024.png\n",
      "HNC37-6025.png\n",
      "HNC37-4006.png\n",
      "HNC37-6023.png\n",
      "HNC37-6022.png\n",
      "HNC37-5001.png\n",
      "HNC37-4003.png\n",
      "HNC37-6008.png\n",
      "HNC37-5010.png\n",
      "HNC37-6006.png\n",
      "HNC37-6001.png\n",
      "HNC37-4011.png\n",
      "HNC37-4013.png\n",
      "HNC37-5011.png\n",
      "HNC37-6021.png\n",
      "HNC37-6007.png\n",
      "HNC37-4004.png\n",
      "HNC37-4014.png\n",
      "HNC37-4005.png\n",
      "HNC37-5002.png\n",
      "21\n"
     ]
    }
   ],
   "source": [
    "input_u_wi = 256\n",
    "input_u_he = 256\n",
    "test_path = 'data/test'\n",
    "test_fullscale_path = 'data/test_orig_png'\n",
    "save_path = 'data/test_result/result_mo_28'\n",
    "save_post_path = 'data/test_result/post/post_28'\n",
    "save_roi_restored = 'data/roi/roi_restored_28'\n",
    "dp = data_preprocess(test_path=test_path,save_path=save_path,\n",
    "                     test_fullscale_path=test_fullscale_path,\n",
    "                     save_post_path=save_post_path, save_roi_restored=save_roi_restored, \n",
    "                     target_rows = input_u_wi, target_cols = input_u_he, img_type = 'png')\n",
    "model = load_model(\"models_SCM_muscle/unet_SCM_28.hdf5\", custom_objects={'dice_coef_loss': dice_coef_loss, 'dice_coef': dice_coef})\n",
    "for i, name in enumerate(os.listdir(test_path)):\n",
    "    if name == '.ipynb_checkpoints':\n",
    "        print('.ipynb_checkpoints occur.')\n",
    "    else:\n",
    "        image_path = os.path.join(test_path, name)\n",
    "        x,img_size = dp.image_normalized(image_path)\n",
    "        results = model.predict(x)\n",
    "        dp.saveResult(results, img_size, name.split('.')[0])\n",
    "dp.overlay_img()"
   ]
  },
  {
   "cell_type": "code",
   "execution_count": null,
   "metadata": {},
   "outputs": [],
   "source": []
  },
  {
   "cell_type": "code",
   "execution_count": null,
   "metadata": {},
   "outputs": [],
   "source": []
  }
 ],
 "metadata": {
  "kernelspec": {
   "display_name": "Python 3",
   "language": "python",
   "name": "python3"
  },
  "language_info": {
   "codemirror_mode": {
    "name": "ipython",
    "version": 3
   },
   "file_extension": ".py",
   "mimetype": "text/x-python",
   "name": "python",
   "nbconvert_exporter": "python",
   "pygments_lexer": "ipython3",
   "version": "3.7.3"
  }
 },
 "nbformat": 4,
 "nbformat_minor": 2
}
